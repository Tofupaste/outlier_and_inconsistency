{
 "cells": [
  {
   "cell_type": "code",
   "execution_count": 176,
   "metadata": {},
   "outputs": [],
   "source": [
    "import pandas as pd\n",
    "import numpy as np\n",
    "import matplotlib.pyplot as plt"
   ]
  },
  {
   "cell_type": "code",
   "execution_count": 177,
   "metadata": {},
   "outputs": [
    {
     "name": "stdout",
     "output_type": "stream",
     "text": [
      "   Gender              Race  Birth_Year Marital_Status  Years_on_Internet  \\\n",
      "0       M             White        1972              M                  8   \n",
      "1       M          Hispanic        1981              S                 14   \n",
      "2       F  African American        1977              S                  6   \n",
      "3       F             White        1961              D                  8   \n",
      "4       M             White        1954              M                  2   \n",
      "5       M  African American        1982              D                 15   \n",
      "6       M  African American        1981              D                 11   \n",
      "7       M             White        1977              S                  3   \n",
      "8       F  African American        1969              M                  6   \n",
      "9       M             White        1987              S                 12   \n",
      "10      F          Hispanic        1959              D                 12   \n",
      "\n",
      "    Hours_Per_Day  Preferred_Browser Preferred_Search_Engine Preferred_Email  \\\n",
      "0               1            Firefox                  Google           Yahoo   \n",
      "1               2             Chrome                  Google         Hotmail   \n",
      "2               2            Firefox                   Yahoo           Yahoo   \n",
      "3               6            Firefox                  Google         Hotmail   \n",
      "4               3  Internet Explorer                    Bing         Hotmail   \n",
      "5               4  Internet Explorer                  Google           Yahoo   \n",
      "6               2            Firefox                  Google           Yahoo   \n",
      "7               3  Internet Explorer                   Yahoo           Yahoo   \n",
      "8               2            Firefox                  Google           Gmail   \n",
      "9               1             Safari                   Yahoo           Yahoo   \n",
      "10              5             Chrome                  Google           Gmail   \n",
      "\n",
      "   Read_News Online_Shopping Online_Gaming Facebook Twitter  \\\n",
      "0          Y               N             N        Y       N   \n",
      "1          Y               N             N        Y       N   \n",
      "2          Y               Y           NaN        Y       N   \n",
      "3          N               Y             N        N       Y   \n",
      "4          Y               Y             N        Y       N   \n",
      "5          Y               N             Y        N       N   \n",
      "6         10               Y           765        Y       Y   \n",
      "7          Y             NaN           NaN        Y      99   \n",
      "8          N               Y             N        N       N   \n",
      "9          Y               9             Y        Y       N   \n",
      "10         Y               N             N        Y       N   \n",
      "\n",
      "   Other_Social_Network  \n",
      "0                   NaN  \n",
      "1                  Face  \n",
      "2                    FB  \n",
      "3                Fesbuk  \n",
      "4                   NaN  \n",
      "5                   NaN  \n",
      "6              LinkedIn  \n",
      "7              LinkedIn  \n",
      "8                   NaN  \n",
      "9               MySpace  \n",
      "10              Google+  \n"
     ]
    }
   ],
   "source": [
    "df = pd.read_csv(\"MissingDataSet-Noisy-Multiple.csv\")\n",
    "\n",
    "print(df)"
   ]
  },
  {
   "cell_type": "code",
   "execution_count": 178,
   "metadata": {},
   "outputs": [
    {
     "name": "stdout",
     "output_type": "stream",
     "text": [
      "Gender                     0\n",
      "Race                       0\n",
      "Birth_Year                 0\n",
      "Marital_Status             0\n",
      "Years_on_Internet          0\n",
      "Hours_Per_Day              0\n",
      "Preferred_Browser          0\n",
      "Preferred_Search_Engine    0\n",
      "Preferred_Email            0\n",
      "Read_News                  0\n",
      "Online_Shopping            1\n",
      "Online_Gaming              2\n",
      "Facebook                   0\n",
      "Twitter                    0\n",
      "Other_Social_Network       4\n",
      "dtype: int64\n"
     ]
    }
   ],
   "source": [
    "#cheking missing vallues\n",
    "print(df.isnull().sum())"
   ]
  },
  {
   "cell_type": "code",
   "execution_count": 179,
   "metadata": {},
   "outputs": [],
   "source": [
    "# Mengganti nilai kosong dengan NaN\n",
    "df.replace(\"\", np.nan, inplace=True)\n",
    "df.replace(\" \", np.nan, inplace=True)"
   ]
  },
  {
   "cell_type": "code",
   "execution_count": 180,
   "metadata": {},
   "outputs": [],
   "source": [
    "# Mengonversi kolom boolean ('Y' dan 'N') kembali menjadi 'Y' dan 'N'\n",
    "boolean_columns = [\"Read_News\", \"Online_Shopping\", \"Online_Gaming\", \"Facebook\", \"Twitter\"]\n",
    "for col in boolean_columns:\n",
    "    df[col] = df[col].apply(lambda x: 'Y' if x == 'Y' else ('N' if x == 'N' else np.nan))"
   ]
  },
  {
   "cell_type": "code",
   "execution_count": 181,
   "metadata": {},
   "outputs": [],
   "source": [
    "# Mengatasi nilai tidak konsisten di kolom Twitter\n",
    "df[\"Twitter\"] = df[\"Twitter\"].replace({\"99\": np.nan, \" \": np.nan})\n",
    "df[\"Twitter\"].fillna(\"N\", inplace=True)"
   ]
  },
  {
   "cell_type": "code",
   "execution_count": 182,
   "metadata": {},
   "outputs": [],
   "source": [
    "# Mengatasi nilai numerik di kolom 'Online_Gaming' dan 'Online_Shopping'\n",
    "df[\"Online_Gaming\"] = df[\"Online_Gaming\"].replace({\"765\": np.nan})\n",
    "df[\"Online_Shopping\"] = df[\"Online_Shopping\"].replace({\"9\": np.nan})"
   ]
  },
  {
   "cell_type": "code",
   "execution_count": 183,
   "metadata": {},
   "outputs": [],
   "source": [
    "# Mengisi nilai NaN pada kolom boolean dengan 'N'\n",
    "df[boolean_columns] = df[boolean_columns].fillna('N')"
   ]
  },
  {
   "cell_type": "code",
   "execution_count": 184,
   "metadata": {},
   "outputs": [],
   "source": [
    "# Normalisasi nama platform sosial di kolom 'Other_Social_Network'\n",
    "df[\"Other_Social_Network\"] = df[\"Other_Social_Network\"].replace({\n",
    "    \"Face\": \"Facebook\",\n",
    "    \"FB\": \"Facebook\",\n",
    "    \"Fesbuk\": \"Facebook\",\n",
    "})"
   ]
  },
  {
   "cell_type": "code",
   "execution_count": 185,
   "metadata": {},
   "outputs": [],
   "source": [
    "# Mengisi missing values pada kolom 'Hours_Per_Day' dengan median\n",
    "df['Hours_Per_Day'].fillna(df['Hours_Per_Day'].median(), inplace=True)"
   ]
  },
  {
   "cell_type": "code",
   "execution_count": null,
   "metadata": {},
   "outputs": [],
   "source": [
    "# Mencari nilai yang paling banyak digunakan (modus) di kolom 'Other_Social_Network'\n",
    "most_common_social_network = df[\"Other_Social_Network\"].mode()[0]\n",
    "\n",
    "# Mengisi nilai NaN di kolom 'Other_Social_Network' dengan nilai modus\n",
    "df[\"Other_Social_Network\"].fillna(most_common_social_network, inplace=True)\n",
    "\n",
    "# Menampilkan hasil akhir\n",
    "print(df[\"Other_Social_Network\"])"
   ]
  },
  {
   "cell_type": "code",
   "execution_count": 186,
   "metadata": {},
   "outputs": [
    {
     "name": "stdout",
     "output_type": "stream",
     "text": [
      "<class 'pandas.core.frame.DataFrame'>\n",
      "RangeIndex: 11 entries, 0 to 10\n",
      "Data columns (total 15 columns):\n",
      " #   Column                   Non-Null Count  Dtype \n",
      "---  ------                   --------------  ----- \n",
      " 0   Gender                   11 non-null     object\n",
      " 1   Race                     11 non-null     object\n",
      " 2   Birth_Year               11 non-null     int64 \n",
      " 3   Marital_Status           11 non-null     object\n",
      " 4   Years_on_Internet        11 non-null     int64 \n",
      " 5   Hours_Per_Day            11 non-null     int64 \n",
      " 6   Preferred_Browser        11 non-null     object\n",
      " 7   Preferred_Search_Engine  11 non-null     object\n",
      " 8   Preferred_Email          11 non-null     object\n",
      " 9   Read_News                11 non-null     object\n",
      " 10  Online_Shopping          11 non-null     object\n",
      " 11  Online_Gaming            11 non-null     object\n",
      " 12  Facebook                 11 non-null     object\n",
      " 13  Twitter                  11 non-null     object\n",
      " 14  Other_Social_Network     7 non-null      object\n",
      "dtypes: int64(3), object(12)\n",
      "memory usage: 1.4+ KB\n",
      "None\n",
      "   Gender              Race  Birth_Year Marital_Status  Years_on_Internet  \\\n",
      "0       M             White        1972              M                  8   \n",
      "1       M          Hispanic        1981              S                 14   \n",
      "2       F  African American        1977              S                  6   \n",
      "3       F             White        1961              D                  8   \n",
      "4       M             White        1954              M                  2   \n",
      "5       M  African American        1982              D                 15   \n",
      "6       M  African American        1981              D                 11   \n",
      "7       M             White        1977              S                  3   \n",
      "8       F  African American        1969              M                  6   \n",
      "9       M             White        1987              S                 12   \n",
      "10      F          Hispanic        1959              D                 12   \n",
      "\n",
      "    Hours_Per_Day  Preferred_Browser Preferred_Search_Engine Preferred_Email  \\\n",
      "0               1            Firefox                  Google           Yahoo   \n",
      "1               2             Chrome                  Google         Hotmail   \n",
      "2               2            Firefox                   Yahoo           Yahoo   \n",
      "3               6            Firefox                  Google         Hotmail   \n",
      "4               3  Internet Explorer                    Bing         Hotmail   \n",
      "5               4  Internet Explorer                  Google           Yahoo   \n",
      "6               2            Firefox                  Google           Yahoo   \n",
      "7               3  Internet Explorer                   Yahoo           Yahoo   \n",
      "8               2            Firefox                  Google           Gmail   \n",
      "9               1             Safari                   Yahoo           Yahoo   \n",
      "10              5             Chrome                  Google           Gmail   \n",
      "\n",
      "   Read_News Online_Shopping Online_Gaming Facebook Twitter  \\\n",
      "0          Y               N             N        Y       N   \n",
      "1          Y               N             N        Y       N   \n",
      "2          Y               Y             N        Y       N   \n",
      "3          N               Y             N        N       Y   \n",
      "4          Y               Y             N        Y       N   \n",
      "5          Y               N             Y        N       N   \n",
      "6          N               Y             N        Y       Y   \n",
      "7          Y               N             N        Y       N   \n",
      "8          N               Y             N        N       N   \n",
      "9          Y               N             Y        Y       N   \n",
      "10         Y               N             N        Y       N   \n",
      "\n",
      "   Other_Social_Network  \n",
      "0                   NaN  \n",
      "1              Facebook  \n",
      "2              Facebook  \n",
      "3              Facebook  \n",
      "4                   NaN  \n",
      "5                   NaN  \n",
      "6              LinkedIn  \n",
      "7              LinkedIn  \n",
      "8                   NaN  \n",
      "9               MySpace  \n",
      "10              Google+  \n"
     ]
    }
   ],
   "source": [
    "# Menampilkan hasil akhir\n",
    "print(df.info())\n",
    "print(df)"
   ]
  }
 ],
 "metadata": {
  "kernelspec": {
   "display_name": "base",
   "language": "python",
   "name": "python3"
  },
  "language_info": {
   "codemirror_mode": {
    "name": "ipython",
    "version": 3
   },
   "file_extension": ".py",
   "mimetype": "text/x-python",
   "name": "python",
   "nbconvert_exporter": "python",
   "pygments_lexer": "ipython3",
   "version": "3.10.9"
  }
 },
 "nbformat": 4,
 "nbformat_minor": 2
}
